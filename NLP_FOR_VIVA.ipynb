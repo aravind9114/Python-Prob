{
  "cells": [
    {
      "cell_type": "markdown",
      "id": "0d5b3546-2f9d-4ffb-abc6-cc8007ff9610",
      "metadata": {
        "id": "0d5b3546-2f9d-4ffb-abc6-cc8007ff9610"
      },
      "source": [
        "# NLTK"
      ]
    },
    {
      "cell_type": "code",
      "execution_count": 1,
      "id": "35f704c1-7170-40a0-a55d-2ba970521049",
      "metadata": {
        "id": "35f704c1-7170-40a0-a55d-2ba970521049"
      },
      "outputs": [],
      "source": [
        "import nltk\n",
        "from nltk.tokenize import word_tokenize"
      ]
    },
    {
      "cell_type": "code",
      "execution_count": 3,
      "id": "2550a850-74f1-445f-a095-25bb0bace9fe",
      "metadata": {
        "colab": {
          "base_uri": "https://localhost:8080/"
        },
        "id": "2550a850-74f1-445f-a095-25bb0bace9fe",
        "outputId": "5db97e86-4faf-4988-f398-7255f0e10348"
      },
      "outputs": [
        {
          "output_type": "stream",
          "name": "stderr",
          "text": [
            "[nltk_data] Downloading package punkt_tab to /root/nltk_data...\n"
          ]
        },
        {
          "output_type": "stream",
          "name": "stdout",
          "text": [
            "['python', 'is', 'a', 'programming', 'language']\n"
          ]
        },
        {
          "output_type": "stream",
          "name": "stderr",
          "text": [
            "[nltk_data]   Unzipping tokenizers/punkt_tab.zip.\n"
          ]
        }
      ],
      "source": [
        "nltk.download('punkt_tab')\n",
        "text=\"python is a programming language\"\n",
        "tokenized_text=word_tokenize(text)\n",
        "print(tokenized_text)"
      ]
    },
    {
      "cell_type": "code",
      "execution_count": 4,
      "id": "0c8cbee8-cc05-402c-9ab1-c51175fafd28",
      "metadata": {
        "colab": {
          "base_uri": "https://localhost:8080/"
        },
        "id": "0c8cbee8-cc05-402c-9ab1-c51175fafd28",
        "outputId": "ec7b92c6-c22d-45c0-949d-52d6bed382ca"
      },
      "outputs": [
        {
          "output_type": "stream",
          "name": "stderr",
          "text": [
            "[nltk_data] Downloading package stopwords to /root/nltk_data...\n",
            "[nltk_data]   Unzipping corpora/stopwords.zip.\n"
          ]
        }
      ],
      "source": [
        "from nltk.corpus import stopwords\n",
        "nltk.download('stopwords')\n",
        "stop_words=set(stopwords.words('english'))"
      ]
    },
    {
      "cell_type": "code",
      "execution_count": 5,
      "id": "a6c692d9-1648-4405-b80e-872594a23fae",
      "metadata": {
        "colab": {
          "base_uri": "https://localhost:8080/"
        },
        "id": "a6c692d9-1648-4405-b80e-872594a23fae",
        "outputId": "2f99b82f-f7ec-4254-a560-930f08969f56"
      },
      "outputs": [
        {
          "output_type": "stream",
          "name": "stdout",
          "text": [
            "['python', 'programming', 'language']\n"
          ]
        }
      ],
      "source": [
        "filtered_text=[words for words in tokenized_text if words.lower() not in stop_words]\n",
        "print(filtered_text)"
      ]
    },
    {
      "cell_type": "code",
      "execution_count": 6,
      "id": "7a482a1b-b032-4401-8c8f-48760febb05f",
      "metadata": {
        "colab": {
          "base_uri": "https://localhost:8080/"
        },
        "id": "7a482a1b-b032-4401-8c8f-48760febb05f",
        "outputId": "23c488eb-475e-412e-83c1-27673bb63531"
      },
      "outputs": [
        {
          "output_type": "stream",
          "name": "stdout",
          "text": [
            "['python', 'program', 'languag']\n"
          ]
        }
      ],
      "source": [
        "from nltk.stem import PorterStemmer\n",
        "ps=PorterStemmer()\n",
        "stemmed_text=[ps.stem(words) for words in filtered_text]\n",
        "print(stemmed_text)"
      ]
    },
    {
      "cell_type": "code",
      "execution_count": 7,
      "id": "39ed91db-af8a-4f5f-85b9-b5856fce8602",
      "metadata": {
        "colab": {
          "base_uri": "https://localhost:8080/"
        },
        "id": "39ed91db-af8a-4f5f-85b9-b5856fce8602",
        "outputId": "725c694a-b290-461b-8fc1-4716d601845b"
      },
      "outputs": [
        {
          "output_type": "stream",
          "name": "stderr",
          "text": [
            "[nltk_data] Downloading package wordnet to /root/nltk_data...\n"
          ]
        },
        {
          "output_type": "stream",
          "name": "stdout",
          "text": [
            "['python', 'programming', 'language']\n"
          ]
        }
      ],
      "source": [
        "from nltk.stem import WordNetLemmatizer\n",
        "nltk.download('wordnet')\n",
        "lemmatizer=WordNetLemmatizer()\n",
        "lemmatized_text=[lemmatizer.lemmatize(words) for words in filtered_text]\n",
        "print(lemmatized_text)"
      ]
    },
    {
      "cell_type": "code",
      "execution_count": 8,
      "id": "30d9d026-e04f-4920-8e16-2c44ba571fe7",
      "metadata": {
        "id": "30d9d026-e04f-4920-8e16-2c44ba571fe7"
      },
      "outputs": [],
      "source": [
        "from nltk import pos_tag"
      ]
    },
    {
      "cell_type": "code",
      "execution_count": 10,
      "id": "cabe3411-9ef8-4c87-8d7d-f1adbcf19d3f",
      "metadata": {
        "colab": {
          "base_uri": "https://localhost:8080/"
        },
        "id": "cabe3411-9ef8-4c87-8d7d-f1adbcf19d3f",
        "outputId": "a1e02e0f-6a3c-4747-e40a-fa51a7564663"
      },
      "outputs": [
        {
          "output_type": "stream",
          "name": "stderr",
          "text": [
            "[nltk_data] Downloading package averaged_perceptron_tagger_eng to\n",
            "[nltk_data]     /root/nltk_data...\n",
            "[nltk_data]   Unzipping taggers/averaged_perceptron_tagger_eng.zip.\n"
          ]
        },
        {
          "output_type": "stream",
          "name": "stdout",
          "text": [
            "[('python', 'NN'), ('is', 'VBZ'), ('a', 'DT'), ('programming', 'JJ'), ('language', 'NN')]\n"
          ]
        }
      ],
      "source": [
        "nltk.download('averaged_perceptron_tagger_eng')\n",
        "tagged_text=pos_tag(tokenized_text)\n",
        "print(tagged_text)"
      ]
    },
    {
      "cell_type": "markdown",
      "id": "de9ebe58-f6c3-467c-9cdb-5d5fc279b695",
      "metadata": {
        "id": "de9ebe58-f6c3-467c-9cdb-5d5fc279b695"
      },
      "source": [
        "# SPACY"
      ]
    },
    {
      "cell_type": "code",
      "execution_count": 18,
      "id": "48e51e9a-44a9-4467-8824-0e63dacd1027",
      "metadata": {
        "colab": {
          "base_uri": "https://localhost:8080/"
        },
        "id": "48e51e9a-44a9-4467-8824-0e63dacd1027",
        "outputId": "dbd5587d-8abb-46d7-8714-c00618498a04"
      },
      "outputs": [
        {
          "output_type": "stream",
          "name": "stdout",
          "text": [
            "['Python', 'is', 'a', 'programming', 'language']\n"
          ]
        }
      ],
      "source": [
        "import spacy\n",
        "\n",
        "# Load the model using the correct directory path\n",
        "nlp = spacy.load('en_core_web_sm')\n",
        "\n",
        "# Process text\n",
        "text = nlp(\"Python is a programming language\")\n",
        "token_text = [word.text for word in text]\n",
        "print(token_text)\n",
        "\n"
      ]
    },
    {
      "cell_type": "code",
      "source": [
        "import spacy\n",
        "\n",
        "# Load the SpaCy model\n",
        "nlp = spacy.load('en_core_web_sm')\n",
        "\n",
        "# Process text\n",
        "text = nlp(\"Apple is a major tech company headquartered in Cupertino, California.\")\n",
        "\n",
        "# Loop through the entities in the text\n",
        "for word in text.ents:\n",
        "    print(word.text, word.label_)\n"
      ],
      "metadata": {
        "colab": {
          "base_uri": "https://localhost:8080/"
        },
        "id": "Cx1iCxGGcxr5",
        "outputId": "9608d545-b204-47ac-96eb-dbf30f5c3cec"
      },
      "id": "Cx1iCxGGcxr5",
      "execution_count": 19,
      "outputs": [
        {
          "output_type": "stream",
          "name": "stdout",
          "text": [
            "Apple ORG\n",
            "Cupertino GPE\n",
            "California GPE\n"
          ]
        }
      ]
    },
    {
      "cell_type": "code",
      "source": [
        "for words in text:\n",
        "  print(words.text,words.dep_,words.head.text)"
      ],
      "metadata": {
        "colab": {
          "base_uri": "https://localhost:8080/"
        },
        "id": "s96FKNGDdBtw",
        "outputId": "380321b9-7f72-4b62-fd9d-038bba295bcc"
      },
      "id": "s96FKNGDdBtw",
      "execution_count": 20,
      "outputs": [
        {
          "output_type": "stream",
          "name": "stdout",
          "text": [
            "Apple nsubj is\n",
            "is ROOT is\n",
            "a det company\n",
            "major amod company\n",
            "tech compound company\n",
            "company attr is\n",
            "headquartered acl company\n",
            "in prep headquartered\n",
            "Cupertino pobj in\n",
            ", punct Cupertino\n",
            "California appos Cupertino\n",
            ". punct is\n"
          ]
        }
      ]
    },
    {
      "cell_type": "code",
      "source": [
        "from spacy.lang.en.stop_words import STOP_WORDS\n",
        "filtered=[words.text for words in text if words.text.lower() not in STOP_WORDS]\n",
        "print(filtered)"
      ],
      "metadata": {
        "colab": {
          "base_uri": "https://localhost:8080/"
        },
        "id": "gXHKv97Pediu",
        "outputId": "ae8a510e-a98b-47f9-e23b-bcb29eecbdf3"
      },
      "id": "gXHKv97Pediu",
      "execution_count": 22,
      "outputs": [
        {
          "output_type": "stream",
          "name": "stdout",
          "text": [
            "['Apple', 'major', 'tech', 'company', 'headquartered', 'Cupertino', ',', 'California', '.']\n"
          ]
        }
      ]
    },
    {
      "cell_type": "code",
      "source": [
        "pos_tags=[(words.text,words.pos_) for words in text]"
      ],
      "metadata": {
        "id": "fYk6LKmFfvwR"
      },
      "id": "fYk6LKmFfvwR",
      "execution_count": 30,
      "outputs": []
    },
    {
      "cell_type": "code",
      "source": [
        "print(pos_tags)"
      ],
      "metadata": {
        "colab": {
          "base_uri": "https://localhost:8080/"
        },
        "id": "UHXh_gqJk4ua",
        "outputId": "cbae874f-94f1-45e6-ed01-4e95ddb0cdaa"
      },
      "id": "UHXh_gqJk4ua",
      "execution_count": 31,
      "outputs": [
        {
          "output_type": "stream",
          "name": "stdout",
          "text": [
            "[('Apple', 'PROPN'), ('is', 'AUX'), ('a', 'DET'), ('major', 'ADJ'), ('tech', 'NOUN'), ('company', 'NOUN'), ('headquartered', 'VERB'), ('in', 'ADP'), ('Cupertino', 'PROPN'), (',', 'PUNCT'), ('California', 'PROPN'), ('.', 'PUNCT')]\n"
          ]
        }
      ]
    },
    {
      "cell_type": "code",
      "source": [
        "lemmatiz=[words.lemma_ for words in text]\n",
        "print(lemmatiz)"
      ],
      "metadata": {
        "colab": {
          "base_uri": "https://localhost:8080/"
        },
        "id": "sxtkMC0hk7pi",
        "outputId": "46e79128-1ce2-4dfe-a6e3-173c676a895a"
      },
      "id": "sxtkMC0hk7pi",
      "execution_count": 33,
      "outputs": [
        {
          "output_type": "stream",
          "name": "stdout",
          "text": [
            "['Apple', 'be', 'a', 'major', 'tech', 'company', 'headquarter', 'in', 'Cupertino', ',', 'California', '.']\n"
          ]
        }
      ]
    },
    {
      "cell_type": "code",
      "source": [],
      "metadata": {
        "id": "2AiDGjRolshJ"
      },
      "id": "2AiDGjRolshJ",
      "execution_count": null,
      "outputs": []
    }
  ],
  "metadata": {
    "kernelspec": {
      "display_name": "Python 3 (ipykernel)",
      "language": "python",
      "name": "python3"
    },
    "language_info": {
      "codemirror_mode": {
        "name": "ipython",
        "version": 3
      },
      "file_extension": ".py",
      "mimetype": "text/x-python",
      "name": "python",
      "nbconvert_exporter": "python",
      "pygments_lexer": "ipython3",
      "version": "3.11.7"
    },
    "colab": {
      "provenance": []
    }
  },
  "nbformat": 4,
  "nbformat_minor": 5
}